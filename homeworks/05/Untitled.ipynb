{
 "cells": [
  {
   "cell_type": "code",
   "execution_count": 1,
   "metadata": {},
   "outputs": [
    {
     "name": "stdout",
     "output_type": "stream",
     "text": [
      "Populating the interactive namespace from numpy and matplotlib\n"
     ]
    }
   ],
   "source": [
    "import numpy as np\n",
    "import pandas as pd\n",
    "%pylab inline\n",
    "from flask import Flask, json, jsonify, render_template"
   ]
  },
  {
   "cell_type": "code",
   "execution_count": 2,
   "metadata": {},
   "outputs": [],
   "source": [
    "class TrieNode(object):\n",
    "  \n",
    "    def __init__(self, char: str):\n",
    "        self.char = char\n",
    "        self.children = []\n",
    "        self.word_finished = False\n",
    "        \n",
    "def add(root, word: str):\n",
    "    word = word.lower().replace('ё', 'е')  #lower- преобразует все символы в нижний регистр, replace меняет ё на е\n",
    "    node = root\n",
    "    for char in word:\n",
    "        found_in_child = False\n",
    "        for child in node.children:\n",
    "            if child.char == char:\n",
    "                node = child\n",
    "                found_in_child = True\n",
    "                break\n",
    "        if not found_in_child:\n",
    "            new_node = TrieNode(char)\n",
    "            node.children.append(new_node)\n",
    "            node = new_node\n",
    "    node.word_finished = True\n",
    "    \n",
    "def prefix_descent(root, prefix: str):\n",
    "    node = root\n",
    "    for char in prefix:\n",
    "        char_not_found = True\n",
    "        for child in node.children:\n",
    "            if child.char == char:\n",
    "                char_not_found = False\n",
    "                node = child\n",
    "                break\n",
    "        if char_not_found:\n",
    "            return False\n",
    "    return node\n",
    "\n",
    "\n",
    "def trie_print(node, string, level, list_of_strings):\n",
    "    if node.word_finished:\n",
    "        res_string = ''.join(string)\n",
    "        list_of_strings.append(res_string)\n",
    "    else:\n",
    "        for child in node.children:\n",
    "            string.insert(level, child.char)\n",
    "            trie_print(child, string.copy(), level+1, list_of_strings)\n",
    "            string.pop()\n",
    "\n",
    "\n",
    "def suggester(root, prefix):\n",
    "    prefix = prefix.lower()\n",
    "    node = prefix_descent(root, prefix)\n",
    "    list_of_strings = []\n",
    "    string = []\n",
    "    if type(node) == bool:\n",
    "        list_of_strings.append(prefix)\n",
    "    else:\n",
    "        trie_print(node, string, 0, list_of_strings)\n",
    "        for i in range(len(list_of_strings)):\n",
    "            list_of_strings[i] = prefix + list_of_strings[i]\n",
    "    return list_of_strings   "
   ]
  },
  {
   "cell_type": "code",
   "execution_count": 3,
   "metadata": {},
   "outputs": [],
   "source": [
    "def rating(root, word , number: int):\n",
    "    string = suggester(root, word)\n",
    "    sugg_data = pd.DataFrame(columns =  [\"name\", \"rating\"])\n",
    "    n = len(data)\n",
    "    i = 0\n",
    "    while i < n:\n",
    "        for s in string:\n",
    "            if data.at[i, 'name'] == s:\n",
    "                sugg_data = pd.DataFrame(np.array([[data.loc[i]['name'], data.loc[i]['rating']]]), columns=['name', 'rating']).append(sugg_data, ignore_index=True)\n",
    "        i += 1\n",
    "    sugg_data['rating'] = sugg_data['rating'].apply(lambda x: int(x))\n",
    "    sugg_data = sugg_data.sort_values(['rating'], ascending=[0])\n",
    "    sugg_data = sugg_data[:number]\n",
    "    #string = sugg_data['name']\n",
    "    return sugg_data['name']"
   ]
  },
  {
   "cell_type": "code",
   "execution_count": 4,
   "metadata": {},
   "outputs": [
    {
     "data": {
      "text/html": [
       "<div>\n",
       "<style scoped>\n",
       "    .dataframe tbody tr th:only-of-type {\n",
       "        vertical-align: middle;\n",
       "    }\n",
       "\n",
       "    .dataframe tbody tr th {\n",
       "        vertical-align: top;\n",
       "    }\n",
       "\n",
       "    .dataframe thead th {\n",
       "        text-align: right;\n",
       "    }\n",
       "</style>\n",
       "<table border=\"1\" class=\"dataframe\">\n",
       "  <thead>\n",
       "    <tr style=\"text-align: right;\">\n",
       "      <th></th>\n",
       "      <th>cuisine</th>\n",
       "      <th>ingredients</th>\n",
       "      <th>name</th>\n",
       "      <th>rating</th>\n",
       "    </tr>\n",
       "  </thead>\n",
       "  <tbody>\n",
       "    <tr>\n",
       "      <th>0</th>\n",
       "      <td>francuzskaya</td>\n",
       "      <td>[Яблоко, Финики, Мед, Лимонный сок, Ваниль, Со...</td>\n",
       "      <td>коблер</td>\n",
       "      <td>343</td>\n",
       "    </tr>\n",
       "    <tr>\n",
       "      <th>1</th>\n",
       "      <td>kitayskaya</td>\n",
       "      <td>[Филе куриной грудки, Апельсины, Соевый соус, ...</td>\n",
       "      <td>куриные кусочки в апельсиновом соусе с чили</td>\n",
       "      <td>13</td>\n",
       "    </tr>\n",
       "    <tr>\n",
       "      <th>2</th>\n",
       "      <td>kitayskaya</td>\n",
       "      <td>[Белое сухое вино, Соевый соус, Чеснок, Жидкий...</td>\n",
       "      <td>курица в кисло-сладком маринаде</td>\n",
       "      <td>66</td>\n",
       "    </tr>\n",
       "    <tr>\n",
       "      <th>3</th>\n",
       "      <td>armyanskaya</td>\n",
       "      <td>[Вода, Пшеничная мука, Соль, Сливочное масло, ...</td>\n",
       "      <td>армянский лаваш</td>\n",
       "      <td>569</td>\n",
       "    </tr>\n",
       "    <tr>\n",
       "      <th>4</th>\n",
       "      <td>kitayskaya</td>\n",
       "      <td>[Стебель сельдерея, Зеленый лук перья, Соевый ...</td>\n",
       "      <td>салат из сельдерея по‑китайски</td>\n",
       "      <td>62</td>\n",
       "    </tr>\n",
       "  </tbody>\n",
       "</table>\n",
       "</div>"
      ],
      "text/plain": [
       "        cuisine                                        ingredients  \\\n",
       "0  francuzskaya  [Яблоко, Финики, Мед, Лимонный сок, Ваниль, Со...   \n",
       "1    kitayskaya  [Филе куриной грудки, Апельсины, Соевый соус, ...   \n",
       "2    kitayskaya  [Белое сухое вино, Соевый соус, Чеснок, Жидкий...   \n",
       "3   armyanskaya  [Вода, Пшеничная мука, Соль, Сливочное масло, ...   \n",
       "4    kitayskaya  [Стебель сельдерея, Зеленый лук перья, Соевый ...   \n",
       "\n",
       "                                          name  rating  \n",
       "0                                       коблер     343  \n",
       "1  куриные кусочки в апельсиновом соусе с чили      13  \n",
       "2              курица в кисло-сладком маринаде      66  \n",
       "3                              армянский лаваш     569  \n",
       "4               салат из сельдерея по‑китайски      62  "
      ]
     },
     "execution_count": 4,
     "metadata": {},
     "output_type": "execute_result"
    }
   ],
   "source": [
    "data = pd.read_json('/home/darya/cook_dataset.json')\n",
    "data['name'] = data['name'].apply(lambda x: x.lower().replace('ё', 'е'))\n",
    "data.head()"
   ]
  },
  {
   "cell_type": "code",
   "execution_count": 5,
   "metadata": {},
   "outputs": [],
   "source": [
    "root = TrieNode('*')"
   ]
  },
  {
   "cell_type": "code",
   "execution_count": 6,
   "metadata": {},
   "outputs": [],
   "source": [
    "for i in data['name']:\n",
    "    add(root, i)"
   ]
  },
  {
   "cell_type": "code",
   "execution_count": null,
   "metadata": {},
   "outputs": [
    {
     "name": "stdout",
     "output_type": "stream",
     "text": [
      " * Serving Flask app \"__main__\" (lazy loading)\n",
      " * Environment: production\n",
      "   WARNING: Do not use the development server in a production environment.\n",
      "   Use a production WSGI server instead.\n",
      " * Debug mode: off\n"
     ]
    },
    {
     "name": "stderr",
     "output_type": "stream",
     "text": [
      " * Running on http://127.0.0.1:5000/ (Press CTRL+C to quit)\n",
      "127.0.0.1 - - [27/Nov/2018 22:59:39] \"GET / HTTP/1.1\" 200 -\n",
      "127.0.0.1 - - [27/Nov/2018 22:59:46] \"GET /get_suggest/%D0%BA%D0%B0%D1%80 HTTP/1.1\" 200 -\n"
     ]
    }
   ],
   "source": [
    "\n",
    "\n",
    "app = Flask(__name__)\n",
    "app.config['JSON_AS_ASCII'] = False\n",
    "\n",
    "\n",
    "@app.route('/get_suggest/<prefix>', methods=['GET'])\n",
    "def suggestions(prefix):\n",
    "    suggest = rating(root, prefix, 10)\n",
    "    sug_string = ''\n",
    "    for i in suggest:\n",
    "        sug_string += i + '<br/>'\n",
    "    return json.dumps(sug_string[:-1])\n",
    "\n",
    "@app.route('/')\n",
    "def hello():\n",
    "    return 'Начни вводить название блюда'\n",
    "\n",
    "\n",
    "\n",
    "if __name__ == \"__main__\":\n",
    "    app.run()\n",
    "\n"
   ]
  },
  {
   "cell_type": "code",
   "execution_count": null,
   "metadata": {},
   "outputs": [],
   "source": []
  },
  {
   "cell_type": "code",
   "execution_count": null,
   "metadata": {},
   "outputs": [],
   "source": []
  },
  {
   "cell_type": "code",
   "execution_count": null,
   "metadata": {},
   "outputs": [],
   "source": []
  }
 ],
 "metadata": {
  "kernelspec": {
   "display_name": "Python 3",
   "language": "python",
   "name": "python3"
  },
  "language_info": {
   "codemirror_mode": {
    "name": "ipython",
    "version": 3
   },
   "file_extension": ".py",
   "mimetype": "text/x-python",
   "name": "python",
   "nbconvert_exporter": "python",
   "pygments_lexer": "ipython3",
   "version": "3.6.6"
  }
 },
 "nbformat": 4,
 "nbformat_minor": 2
}
